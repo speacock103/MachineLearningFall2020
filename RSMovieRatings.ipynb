{
  "nbformat": 4,
  "nbformat_minor": 0,
  "metadata": {
    "colab": {
      "name": "RSMovieRatings.ipynb",
      "provenance": [],
      "collapsed_sections": [],
      "authorship_tag": "ABX9TyNhIy4HuBdB4ta61Rvce3Oi",
      "include_colab_link": true
    },
    "kernelspec": {
      "name": "python3",
      "display_name": "Python 3"
    }
  },
  "cells": [
    {
      "cell_type": "markdown",
      "metadata": {
        "id": "view-in-github",
        "colab_type": "text"
      },
      "source": [
        "<a href=\"https://colab.research.google.com/github/speacock103/MachineLearningFall2020/blob/master/RSMovieRatings.ipynb\" target=\"_parent\"><img src=\"https://colab.research.google.com/assets/colab-badge.svg\" alt=\"Open In Colab\"/></a>"
      ]
    },
    {
      "cell_type": "markdown",
      "metadata": {
        "id": "ZKjeZtqqPsIA"
      },
      "source": [
        "imports"
      ]
    },
    {
      "cell_type": "code",
      "metadata": {
        "id": "AFnb6a51r26D",
        "colab": {
          "base_uri": "https://localhost:8080/"
        },
        "outputId": "b504af0e-9db7-4dfa-c3b8-79db999b4251"
      },
      "source": [
        "!pip install surprise"
      ],
      "execution_count": null,
      "outputs": [
        {
          "output_type": "stream",
          "text": [
            "Collecting surprise\n",
            "  Downloading https://files.pythonhosted.org/packages/61/de/e5cba8682201fcf9c3719a6fdda95693468ed061945493dea2dd37c5618b/surprise-0.1-py2.py3-none-any.whl\n",
            "Collecting scikit-surprise\n",
            "\u001b[?25l  Downloading https://files.pythonhosted.org/packages/97/37/5d334adaf5ddd65da99fc65f6507e0e4599d092ba048f4302fe8775619e8/scikit-surprise-1.1.1.tar.gz (11.8MB)\n",
            "\u001b[K     |████████████████████████████████| 11.8MB 3.8MB/s \n",
            "\u001b[?25hRequirement already satisfied: joblib>=0.11 in /usr/local/lib/python3.6/dist-packages (from scikit-surprise->surprise) (0.17.0)\n",
            "Requirement already satisfied: numpy>=1.11.2 in /usr/local/lib/python3.6/dist-packages (from scikit-surprise->surprise) (1.18.5)\n",
            "Requirement already satisfied: scipy>=1.0.0 in /usr/local/lib/python3.6/dist-packages (from scikit-surprise->surprise) (1.4.1)\n",
            "Requirement already satisfied: six>=1.10.0 in /usr/local/lib/python3.6/dist-packages (from scikit-surprise->surprise) (1.15.0)\n",
            "Building wheels for collected packages: scikit-surprise\n",
            "  Building wheel for scikit-surprise (setup.py) ... \u001b[?25l\u001b[?25hdone\n",
            "  Created wheel for scikit-surprise: filename=scikit_surprise-1.1.1-cp36-cp36m-linux_x86_64.whl size=1670913 sha256=2a9c38804d03ccd7f398a937d57f44547103d96388db426290f06e59fbe65b5f\n",
            "  Stored in directory: /root/.cache/pip/wheels/78/9c/3d/41b419c9d2aff5b6e2b4c0fc8d25c538202834058f9ed110d0\n",
            "Successfully built scikit-surprise\n",
            "Installing collected packages: scikit-surprise, surprise\n",
            "Successfully installed scikit-surprise-1.1.1 surprise-0.1\n"
          ],
          "name": "stdout"
        }
      ]
    },
    {
      "cell_type": "code",
      "metadata": {
        "id": "iHQqIcNGR_3e"
      },
      "source": [
        "import io\n",
        "import pandas as pd\n",
        "import numpy as np\n",
        "import matplotlib.pyplot as plt\n",
        "from surprise import Dataset\n",
        "from surprise import Reader\n",
        "from surprise import SVD\n",
        "from surprise import KNNBasic\n",
        "from surprise.model_selection import cross_validate"
      ],
      "execution_count": null,
      "outputs": []
    },
    {
      "cell_type": "markdown",
      "metadata": {
        "id": "56EIkyAZr6Uy"
      },
      "source": [
        "load data set for movie ratings"
      ]
    },
    {
      "cell_type": "code",
      "metadata": {
        "id": "ITS4hNPFPsOG",
        "colab": {
          "base_uri": "https://localhost:8080/"
        },
        "outputId": "98768c58-4aea-4fa5-d15f-57a18a1b35a7"
      },
      "source": [
        "from google.colab import drive\n",
        "drive.mount('/content/gdrive')"
      ],
      "execution_count": null,
      "outputs": [
        {
          "output_type": "stream",
          "text": [
            "Drive already mounted at /content/gdrive; to attempt to forcibly remount, call drive.mount(\"/content/gdrive\", force_remount=True).\n"
          ],
          "name": "stdout"
        }
      ]
    },
    {
      "cell_type": "code",
      "metadata": {
        "id": "Vk3c_-tgZnfu"
      },
      "source": [
        "movierate = pd.read_csv('/content/gdrive/My Drive/movie/ratings_small.csv')"
      ],
      "execution_count": null,
      "outputs": []
    },
    {
      "cell_type": "markdown",
      "metadata": {
        "id": "0ztFrN67WBLT"
      },
      "source": [
        "conversion of data frame to suprise format for dataset"
      ]
    },
    {
      "cell_type": "code",
      "metadata": {
        "id": "Shp_MJo6WBRy"
      },
      "source": [
        "reader = Reader(rating_scale = (0.5,5))\n",
        "ratingdata = Dataset.load_from_df(movierate[['userId','movieId','rating']], reader)"
      ],
      "execution_count": null,
      "outputs": []
    },
    {
      "cell_type": "markdown",
      "metadata": {
        "id": "RiXkmEE1SzPZ"
      },
      "source": [
        "Probabilistic matrix function with suprise, 5 fold cross validation with both MAE and RMSE"
      ]
    },
    {
      "cell_type": "code",
      "metadata": {
        "id": "Z_VGdszDSzaL",
        "colab": {
          "base_uri": "https://localhost:8080/"
        },
        "outputId": "dc9b1463-5d0e-4e26-9c2a-108c45371543"
      },
      "source": [
        "pmf = SVD()\n",
        "pmfrate = ratingdata\n",
        "cross_validate(pmf, pmfrate, measures=['MAE', 'RMSE'], cv=5, verbose = True)"
      ],
      "execution_count": null,
      "outputs": [
        {
          "output_type": "stream",
          "text": [
            "Evaluating MAE, RMSE of algorithm SVD on 5 split(s).\n",
            "\n",
            "                  Fold 1  Fold 2  Fold 3  Fold 4  Fold 5  Mean    Std     \n",
            "MAE (testset)     0.6934  0.6942  0.6881  0.6889  0.6845  0.6898  0.0036  \n",
            "RMSE (testset)    0.9020  0.8998  0.8892  0.8949  0.8917  0.8955  0.0048  \n",
            "Fit time          4.95    4.95    5.02    5.07    5.11    5.02    0.06    \n",
            "Test time         0.30    0.14    0.30    0.15    0.29    0.24    0.08    \n"
          ],
          "name": "stdout"
        },
        {
          "output_type": "execute_result",
          "data": {
            "text/plain": [
              "{'fit_time': (4.949042081832886,\n",
              "  4.949028968811035,\n",
              "  5.022053003311157,\n",
              "  5.073733568191528,\n",
              "  5.10988712310791),\n",
              " 'test_mae': array([0.69340537, 0.6941814 , 0.68806434, 0.68889926, 0.68453905]),\n",
              " 'test_rmse': array([0.90197494, 0.89980375, 0.88916008, 0.89490686, 0.89165148]),\n",
              " 'test_time': (0.3046748638153076,\n",
              "  0.14291977882385254,\n",
              "  0.2990894317626953,\n",
              "  0.14528226852416992,\n",
              "  0.29166269302368164)}"
            ]
          },
          "metadata": {
            "tags": []
          },
          "execution_count": 18
        }
      ]
    },
    {
      "cell_type": "markdown",
      "metadata": {
        "id": "eJ0RirK0USVC"
      },
      "source": [
        "User based collaborative filtering with suprise, 5 fold cross validation with both MAE and RMSE"
      ]
    },
    {
      "cell_type": "code",
      "metadata": {
        "id": "YOdJfKRMUSaT",
        "colab": {
          "base_uri": "https://localhost:8080/"
        },
        "outputId": "455ce31b-7f20-4ea5-cd29-131095f9ec94"
      },
      "source": [
        "ubcfmsd = KNNBasic(sim_options={'name':'MSD', 'user_based':'True'})\n",
        "ubcfmsdrate = ratingdata\n",
        "cross_validate(ubcfmsd, ubcfmsdrate, measures=['MAE', 'RMSE'], cv=5, verbose = True)"
      ],
      "execution_count": null,
      "outputs": [
        {
          "output_type": "stream",
          "text": [
            "Computing the msd similarity matrix...\n",
            "Done computing similarity matrix.\n",
            "Computing the msd similarity matrix...\n",
            "Done computing similarity matrix.\n",
            "Computing the msd similarity matrix...\n",
            "Done computing similarity matrix.\n",
            "Computing the msd similarity matrix...\n",
            "Done computing similarity matrix.\n",
            "Computing the msd similarity matrix...\n",
            "Done computing similarity matrix.\n",
            "Evaluating MAE, RMSE of algorithm KNNBasic on 5 split(s).\n",
            "\n",
            "                  Fold 1  Fold 2  Fold 3  Fold 4  Fold 5  Mean    Std     \n",
            "MAE (testset)     0.7479  0.7459  0.7407  0.7472  0.7453  0.7454  0.0025  \n",
            "RMSE (testset)    0.9749  0.9703  0.9622  0.9708  0.9730  0.9702  0.0043  \n",
            "Fit time          0.13    0.15    0.16    0.17    0.17    0.15    0.01    \n",
            "Test time         1.63    1.66    1.84    1.69    1.86    1.74    0.10    \n"
          ],
          "name": "stdout"
        },
        {
          "output_type": "execute_result",
          "data": {
            "text/plain": [
              "{'fit_time': (0.12806320190429688,\n",
              "  0.15147972106933594,\n",
              "  0.15658330917358398,\n",
              "  0.1651158332824707,\n",
              "  0.1653132438659668),\n",
              " 'test_mae': array([0.74792677, 0.74587841, 0.74068056, 0.74723901, 0.74526949]),\n",
              " 'test_rmse': array([0.9748658 , 0.9703347 , 0.96216416, 0.97084456, 0.9729626 ]),\n",
              " 'test_time': (1.6263883113861084,\n",
              "  1.657222032546997,\n",
              "  1.844318151473999,\n",
              "  1.692896842956543,\n",
              "  1.8564372062683105)}"
            ]
          },
          "metadata": {
            "tags": []
          },
          "execution_count": 19
        }
      ]
    },
    {
      "cell_type": "code",
      "metadata": {
        "id": "pVXSSeUGk1qR",
        "colab": {
          "base_uri": "https://localhost:8080/"
        },
        "outputId": "e431eb9a-d2fb-46d8-ab5f-a0345b689d4b"
      },
      "source": [
        "ubcfcos = KNNBasic(sim_options={'name':'cosine', 'user_based':'True'})\n",
        "ubcfcosrate = ratingdata\n",
        "cross_validate(ubcfcos, ubcfcosrate, measures=['MAE', 'RMSE'], cv=5, verbose = True)"
      ],
      "execution_count": null,
      "outputs": [
        {
          "output_type": "stream",
          "text": [
            "Computing the cosine similarity matrix...\n",
            "Done computing similarity matrix.\n",
            "Computing the cosine similarity matrix...\n",
            "Done computing similarity matrix.\n",
            "Computing the cosine similarity matrix...\n",
            "Done computing similarity matrix.\n",
            "Computing the cosine similarity matrix...\n",
            "Done computing similarity matrix.\n",
            "Computing the cosine similarity matrix...\n",
            "Done computing similarity matrix.\n",
            "Evaluating MAE, RMSE of algorithm KNNBasic on 5 split(s).\n",
            "\n",
            "                  Fold 1  Fold 2  Fold 3  Fold 4  Fold 5  Mean    Std     \n",
            "MAE (testset)     0.7643  0.7746  0.7696  0.7627  0.7709  0.7684  0.0044  \n",
            "RMSE (testset)    0.9913  1.0046  0.9964  0.9867  0.9965  0.9951  0.0060  \n",
            "Fit time          0.37    0.40    0.39    0.42    0.42    0.40    0.02    \n",
            "Test time         1.65    1.82    1.67    1.67    1.82    1.73    0.08    \n"
          ],
          "name": "stdout"
        },
        {
          "output_type": "execute_result",
          "data": {
            "text/plain": [
              "{'fit_time': (0.3680851459503174,\n",
              "  0.3988070487976074,\n",
              "  0.39096808433532715,\n",
              "  0.4192812442779541,\n",
              "  0.4197981357574463),\n",
              " 'test_mae': array([0.76434257, 0.77456732, 0.76964844, 0.76269692, 0.77087868]),\n",
              " 'test_rmse': array([0.99125079, 1.00458609, 0.99639792, 0.98668722, 0.9965307 ]),\n",
              " 'test_time': (1.6496117115020752,\n",
              "  1.8221383094787598,\n",
              "  1.6702053546905518,\n",
              "  1.6721937656402588,\n",
              "  1.8170745372772217)}"
            ]
          },
          "metadata": {
            "tags": []
          },
          "execution_count": 20
        }
      ]
    },
    {
      "cell_type": "code",
      "metadata": {
        "id": "1UcVMavRk1yX",
        "colab": {
          "base_uri": "https://localhost:8080/"
        },
        "outputId": "be5d71fa-6b15-4385-a733-cf5105f7732b"
      },
      "source": [
        "ubcfpearson = KNNBasic(sim_options={'name':'pearson', 'user_based':'True'})\n",
        "ubcfpearsonrate = ratingdata\n",
        "cross_validate(ubcfpearson, ubcfpearsonrate, measures=['MAE', 'RMSE'], cv=5, verbose = True)"
      ],
      "execution_count": null,
      "outputs": [
        {
          "output_type": "stream",
          "text": [
            "Computing the pearson similarity matrix...\n",
            "Done computing similarity matrix.\n",
            "Computing the pearson similarity matrix...\n",
            "Done computing similarity matrix.\n",
            "Computing the pearson similarity matrix...\n",
            "Done computing similarity matrix.\n",
            "Computing the pearson similarity matrix...\n",
            "Done computing similarity matrix.\n",
            "Computing the pearson similarity matrix...\n",
            "Done computing similarity matrix.\n",
            "Evaluating MAE, RMSE of algorithm KNNBasic on 5 split(s).\n",
            "\n",
            "                  Fold 1  Fold 2  Fold 3  Fold 4  Fold 5  Mean    Std     \n",
            "MAE (testset)     0.7755  0.7781  0.7737  0.7732  0.7748  0.7751  0.0017  \n",
            "RMSE (testset)    1.0046  1.0001  0.9983  0.9999  1.0014  1.0008  0.0021  \n",
            "Fit time          0.53    0.55    0.54    0.56    0.56    0.55    0.01    \n",
            "Test time         1.61    1.85    1.67    1.78    1.64    1.71    0.09    \n"
          ],
          "name": "stdout"
        },
        {
          "output_type": "execute_result",
          "data": {
            "text/plain": [
              "{'fit_time': (0.534970760345459,\n",
              "  0.5538511276245117,\n",
              "  0.5362293720245361,\n",
              "  0.5604889392852783,\n",
              "  0.5623595714569092),\n",
              " 'test_mae': array([0.77553188, 0.77807427, 0.77371687, 0.7731568 , 0.77481428]),\n",
              " 'test_rmse': array([1.00457132, 1.00008937, 0.99825439, 0.99986045, 1.00136326]),\n",
              " 'test_time': (1.60624361038208,\n",
              "  1.847038745880127,\n",
              "  1.6723883152008057,\n",
              "  1.7822437286376953,\n",
              "  1.6382603645324707)}"
            ]
          },
          "metadata": {
            "tags": []
          },
          "execution_count": 21
        }
      ]
    },
    {
      "cell_type": "markdown",
      "metadata": {
        "id": "ldKR6Ns4UShR"
      },
      "source": [
        "Item based collaboritive filtering with suprise, 5 fold cross validation with both MAE and RMSE"
      ]
    },
    {
      "cell_type": "code",
      "metadata": {
        "id": "qLgSV_SUUSnA",
        "colab": {
          "base_uri": "https://localhost:8080/"
        },
        "outputId": "78b9527b-8e1e-4c23-cbaa-b361d5c35ea1"
      },
      "source": [
        "ibcfmsd = KNNBasic(sim_options={'name':'MSD', 'user_based':'False'})\n",
        "ibcfmsdrate = ratingdata\n",
        "cross_validate(ibcfmsd, ibcfmsdrate, measures=['MAE', 'RMSE'], cv=5, verbose = True)"
      ],
      "execution_count": null,
      "outputs": [
        {
          "output_type": "stream",
          "text": [
            "Computing the msd similarity matrix...\n",
            "Done computing similarity matrix.\n",
            "Computing the msd similarity matrix...\n",
            "Done computing similarity matrix.\n",
            "Computing the msd similarity matrix...\n",
            "Done computing similarity matrix.\n",
            "Computing the msd similarity matrix...\n",
            "Done computing similarity matrix.\n",
            "Computing the msd similarity matrix...\n",
            "Done computing similarity matrix.\n",
            "Evaluating MAE, RMSE of algorithm KNNBasic on 5 split(s).\n",
            "\n",
            "                  Fold 1  Fold 2  Fold 3  Fold 4  Fold 5  Mean    Std     \n",
            "MAE (testset)     0.7474  0.7432  0.7412  0.7442  0.7459  0.7444  0.0021  \n",
            "RMSE (testset)    0.9754  0.9645  0.9631  0.9700  0.9690  0.9684  0.0044  \n",
            "Fit time          0.13    0.15    0.16    0.16    0.17    0.15    0.01    \n",
            "Test time         1.82    1.67    1.69    1.77    1.68    1.73    0.06    \n"
          ],
          "name": "stdout"
        },
        {
          "output_type": "execute_result",
          "data": {
            "text/plain": [
              "{'fit_time': (0.12594103813171387,\n",
              "  0.15052056312561035,\n",
              "  0.15954113006591797,\n",
              "  0.15796160697937012,\n",
              "  0.165297269821167),\n",
              " 'test_mae': array([0.74736517, 0.74324353, 0.74119153, 0.74423994, 0.7459204 ]),\n",
              " 'test_rmse': array([0.97541254, 0.96452181, 0.96314815, 0.97002002, 0.96898501]),\n",
              " 'test_time': (1.8243896961212158,\n",
              "  1.6668388843536377,\n",
              "  1.6946823596954346,\n",
              "  1.773242473602295,\n",
              "  1.6791682243347168)}"
            ]
          },
          "metadata": {
            "tags": []
          },
          "execution_count": 22
        }
      ]
    },
    {
      "cell_type": "code",
      "metadata": {
        "id": "f5D_aBcJk2WX",
        "colab": {
          "base_uri": "https://localhost:8080/"
        },
        "outputId": "b796f640-9ddf-4434-86e7-03dd31f58c28"
      },
      "source": [
        "ibcfcos = KNNBasic(sim_options={'name':'cosine', 'user_based':'False'})\n",
        "ibcfcosrate = ratingdata\n",
        "cross_validate(ibcfcos, ibcfcosrate, measures=['MAE', 'RMSE'], cv=5, verbose = True)"
      ],
      "execution_count": null,
      "outputs": [
        {
          "output_type": "stream",
          "text": [
            "Computing the cosine similarity matrix...\n",
            "Done computing similarity matrix.\n",
            "Computing the cosine similarity matrix...\n",
            "Done computing similarity matrix.\n",
            "Computing the cosine similarity matrix...\n",
            "Done computing similarity matrix.\n",
            "Computing the cosine similarity matrix...\n",
            "Done computing similarity matrix.\n",
            "Computing the cosine similarity matrix...\n",
            "Done computing similarity matrix.\n",
            "Evaluating MAE, RMSE of algorithm KNNBasic on 5 split(s).\n",
            "\n",
            "                  Fold 1  Fold 2  Fold 3  Fold 4  Fold 5  Mean    Std     \n",
            "MAE (testset)     0.7725  0.7655  0.7666  0.7662  0.7712  0.7684  0.0028  \n",
            "RMSE (testset)    1.0007  0.9909  0.9926  0.9930  0.9988  0.9952  0.0038  \n",
            "Fit time          0.37    0.41    0.39    0.40    0.39    0.39    0.01    \n",
            "Test time         1.84    1.69    1.86    1.66    1.66    1.74    0.09    \n"
          ],
          "name": "stdout"
        },
        {
          "output_type": "execute_result",
          "data": {
            "text/plain": [
              "{'fit_time': (0.3681461811065674,\n",
              "  0.41072750091552734,\n",
              "  0.3922388553619385,\n",
              "  0.3960540294647217,\n",
              "  0.39416050910949707),\n",
              " 'test_mae': array([0.77248295, 0.76554881, 0.76662604, 0.76618896, 0.77118019]),\n",
              " 'test_rmse': array([1.00069931, 0.99088799, 0.99258112, 0.9929709 , 0.9987905 ]),\n",
              " 'test_time': (1.8394949436187744,\n",
              "  1.6893670558929443,\n",
              "  1.8640894889831543,\n",
              "  1.663801670074463,\n",
              "  1.6610181331634521)}"
            ]
          },
          "metadata": {
            "tags": []
          },
          "execution_count": 23
        }
      ]
    },
    {
      "cell_type": "code",
      "metadata": {
        "id": "s8XBoOH3k2aQ",
        "colab": {
          "base_uri": "https://localhost:8080/"
        },
        "outputId": "ab7cbcc5-0d3a-42d6-e0c8-75ed22a6efa3"
      },
      "source": [
        "ibcfpearson = KNNBasic(sim_options={'name':'pearson', 'user_based':'False'})\n",
        "ibcfpearsonrate = ratingdata\n",
        "cross_validate(ibcfpearson, ibcfpearsonrate, measures=['MAE', 'RMSE'], cv=5, verbose = True)"
      ],
      "execution_count": null,
      "outputs": [
        {
          "output_type": "stream",
          "text": [
            "Computing the pearson similarity matrix...\n",
            "Done computing similarity matrix.\n",
            "Computing the pearson similarity matrix...\n",
            "Done computing similarity matrix.\n",
            "Computing the pearson similarity matrix...\n",
            "Done computing similarity matrix.\n",
            "Computing the pearson similarity matrix...\n",
            "Done computing similarity matrix.\n",
            "Computing the pearson similarity matrix...\n",
            "Done computing similarity matrix.\n",
            "Evaluating MAE, RMSE of algorithm KNNBasic on 5 split(s).\n",
            "\n",
            "                  Fold 1  Fold 2  Fold 3  Fold 4  Fold 5  Mean    Std     \n",
            "MAE (testset)     0.7748  0.7703  0.7800  0.7664  0.7783  0.7739  0.0050  \n",
            "RMSE (testset)    0.9994  0.9974  1.0087  0.9894  1.0051  1.0000  0.0066  \n",
            "Fit time          0.54    0.54    0.52    0.58    0.55    0.55    0.02    \n",
            "Test time         1.81    1.64    1.84    1.65    1.77    1.74    0.08    \n"
          ],
          "name": "stdout"
        },
        {
          "output_type": "execute_result",
          "data": {
            "text/plain": [
              "{'fit_time': (0.5431869029998779,\n",
              "  0.5446977615356445,\n",
              "  0.5208282470703125,\n",
              "  0.5829157829284668,\n",
              "  0.5471739768981934),\n",
              " 'test_mae': array([0.77483971, 0.77026908, 0.77996582, 0.76640164, 0.77825283]),\n",
              " 'test_rmse': array([0.9994098 , 0.99742986, 1.00870739, 0.98943945, 1.00507209]),\n",
              " 'test_time': (1.81119966506958,\n",
              "  1.6420271396636963,\n",
              "  1.8409545421600342,\n",
              "  1.6491920948028564,\n",
              "  1.7723028659820557)}"
            ]
          },
          "metadata": {
            "tags": []
          },
          "execution_count": 24
        }
      ]
    }
  ]
}